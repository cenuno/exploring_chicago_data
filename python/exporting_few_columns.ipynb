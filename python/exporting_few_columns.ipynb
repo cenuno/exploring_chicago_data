{
 "cells": [
  {
   "cell_type": "markdown",
   "metadata": {},
   "source": [
    "# Exporting a few columns from the CPS SY1819 Profile `.csv` file\n",
    "\n",
    "Cristian E. Nuno | May 6, 2019\n",
    "\n",
    "To practice converting `.csv` files to a `postgresql` table, I'm going to export a new `.csv` file that only has a few columns from the original file located in the `raw_data/` directory.\n",
    "\n",
    "*For more City of Chicago data, [please see here](https://data.cityofchicago.org/Education/Chicago-Public-Schools-School-Profile-Information-/kh4r-387c/data).*"
   ]
  },
  {
   "cell_type": "code",
   "execution_count": 1,
   "metadata": {},
   "outputs": [],
   "source": [
    "import pandas as pd"
   ]
  },
  {
   "cell_type": "code",
   "execution_count": 2,
   "metadata": {},
   "outputs": [
    {
     "name": "stdout",
     "output_type": "stream",
     "text": [
      "<class 'pandas.core.frame.DataFrame'>\n",
      "RangeIndex: 660 entries, 0 to 659\n",
      "Data columns (total 95 columns):\n",
      "school_id                                  660 non-null int64\n",
      "legacy_unit_id                             660 non-null int64\n",
      "finance_id                                 660 non-null int64\n",
      "short_name                                 660 non-null object\n",
      "long_name                                  660 non-null object\n",
      "primary_category                           660 non-null object\n",
      "is_high_school                             660 non-null bool\n",
      "is_middle_school                           660 non-null bool\n",
      "is_elementary_school                       660 non-null bool\n",
      "is_pre_school                              660 non-null bool\n",
      "summary                                    649 non-null object\n",
      "administrator_title                        660 non-null object\n",
      "administrator                              658 non-null object\n",
      "secondary_contact_title                    577 non-null object\n",
      "secondary_contact                          566 non-null object\n",
      "address                                    660 non-null object\n",
      "city                                       660 non-null object\n",
      "state                                      660 non-null object\n",
      "zip                                        660 non-null int64\n",
      "phone                                      659 non-null float64\n",
      "fax                                        655 non-null float64\n",
      "cps_school_profile                         660 non-null object\n",
      "website                                    656 non-null object\n",
      "facebook                                   266 non-null object\n",
      "twitter                                    267 non-null object\n",
      "youtube                                    51 non-null object\n",
      "pinterest                                  5 non-null object\n",
      "attendance_boundaries                      660 non-null bool\n",
      "grades_offered_all                         660 non-null object\n",
      "grades_offered                             660 non-null object\n",
      "student_count_total                        660 non-null int64\n",
      "student_count_low_income                   660 non-null int64\n",
      "student_count_special_ed                   660 non-null int64\n",
      "student_count_english_learners             660 non-null int64\n",
      "student_count_black                        660 non-null int64\n",
      "student_count_hispanic                     660 non-null int64\n",
      "student_count_white                        660 non-null int64\n",
      "student_count_asian                        660 non-null int64\n",
      "student_count_native_american              660 non-null int64\n",
      "student_count_other_ethnicity              660 non-null int64\n",
      "student_count_asian_pacific_islander       660 non-null int64\n",
      "student_count_multi                        660 non-null int64\n",
      "student_count_hawaiian_pacific_islander    660 non-null int64\n",
      "student_count_ethnicity_not_available      660 non-null int64\n",
      "statistics_description                     657 non-null object\n",
      "demographic_description                    660 non-null object\n",
      "dress_code                                 660 non-null bool\n",
      "prek_school_day                            362 non-null object\n",
      "kindergarten_school_day                    461 non-null object\n",
      "school_hours                               649 non-null object\n",
      "freshman_start_end_time                    105 non-null object\n",
      "after_school_hours                         304 non-null object\n",
      "earliest_drop_off_time                     428 non-null object\n",
      "classroom_languages                        281 non-null object\n",
      "bilingual_services                         376 non-null object\n",
      "refugee_services                           156 non-null object\n",
      "title_1_eligible                           645 non-null object\n",
      "preschool_inclusive                        94 non-null object\n",
      "preschool_instructional                    47 non-null object\n",
      "significantly_modified                     152 non-null object\n",
      "hard_of_hearing                            13 non-null object\n",
      "visual_impairments                         6 non-null object\n",
      "transportation_bus                         556 non-null object\n",
      "transportation_el                          408 non-null object\n",
      "transportation_metra                       110 non-null object\n",
      "school_latitude                            660 non-null float64\n",
      "school_longitude                           660 non-null float64\n",
      "average_act_school                         0 non-null float64\n",
      "mean_act                                   0 non-null float64\n",
      "college_enrollment_rate_school             172 non-null float64\n",
      "college_enrollment_rate_mean               660 non-null float64\n",
      "graduation_rate_school                     141 non-null float64\n",
      "graduation_rate_mean                       660 non-null float64\n",
      "overall_rating                             659 non-null object\n",
      "rating_status                              659 non-null object\n",
      "rating_statement                           659 non-null object\n",
      "classification_description                 660 non-null object\n",
      "school_year                                660 non-null object\n",
      "third_contact_title                        279 non-null object\n",
      "third_contact_name                         272 non-null object\n",
      "fourth_contact_title                       143 non-null object\n",
      "fourth_contact_name                        142 non-null object\n",
      "fifth_contact_title                        77 non-null object\n",
      "fifth_contact_name                         76 non-null object\n",
      "sixth_contact_title                        44 non-null object\n",
      "sixth_contact_name                         43 non-null object\n",
      "seventh_contact_title                      21 non-null object\n",
      "seventh_contact_name                       21 non-null object\n",
      "network                                    655 non-null object\n",
      "is_gocps_participant                       660 non-null bool\n",
      "is_gocps_prek                              660 non-null bool\n",
      "is_gocps_elementary                        659 non-null object\n",
      "is_gocps_high_school                       660 non-null bool\n",
      "open_for_enrollment_date                   660 non-null object\n",
      "closed_for_enrollment_date                 0 non-null float64\n",
      "dtypes: bool(9), float64(11), int64(18), object(57)\n",
      "memory usage: 449.3+ KB\n"
     ]
    }
   ],
   "source": [
    "cps_sy1819 = pd.read_csv(\"../raw_data/cps_sy1819_profiles.csv\")\n",
    "# force of habit to force lowercase column names\n",
    "cps_sy1819.columns = cps_sy1819.columns.str.lower()\n",
    "cps_sy1819.info()"
   ]
  },
  {
   "cell_type": "markdown",
   "metadata": {},
   "source": [
    "## Only keep the `school_id`, `short_name`, and `is_high_school` columns\n",
    "\n",
    "Goal is to have three unique column types: integer, text, and boolean."
   ]
  },
  {
   "cell_type": "code",
   "execution_count": 3,
   "metadata": {
    "scrolled": true
   },
   "outputs": [
    {
     "name": "stdout",
     "output_type": "stream",
     "text": [
      "<class 'pandas.core.frame.DataFrame'>\n",
      "RangeIndex: 660 entries, 0 to 659\n",
      "Data columns (total 3 columns):\n",
      "school_id         660 non-null int64\n",
      "short_name        660 non-null object\n",
      "is_high_school    660 non-null bool\n",
      "dtypes: bool(1), int64(1), object(1)\n",
      "memory usage: 11.0+ KB\n"
     ]
    }
   ],
   "source": [
    "cps_sy1819_export = cps_sy1819[[\"school_id\", \"short_name\", \"is_high_school\"]]\n",
    "cps_sy1819_export.info()"
   ]
  },
  {
   "cell_type": "markdown",
   "metadata": {},
   "source": [
    "## Export file to `write_data/`"
   ]
  },
  {
   "cell_type": "code",
   "execution_count": 4,
   "metadata": {},
   "outputs": [],
   "source": [
    "cps_sy1819_export.to_csv(\"../write_data/cps_sy1819_three_columns.csv\", index=False)"
   ]
  }
 ],
 "metadata": {
  "kernelspec": {
   "display_name": "Python (learn-env)",
   "language": "python",
   "name": "learn-env"
  },
  "language_info": {
   "codemirror_mode": {
    "name": "ipython",
    "version": 3
   },
   "file_extension": ".py",
   "mimetype": "text/x-python",
   "name": "python",
   "nbconvert_exporter": "python",
   "pygments_lexer": "ipython3",
   "version": "3.6.6"
  }
 },
 "nbformat": 4,
 "nbformat_minor": 2
}
